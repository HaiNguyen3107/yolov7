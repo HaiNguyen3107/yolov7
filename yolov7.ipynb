{
 "cells": [
  {
   "cell_type": "code",
   "execution_count": null,
   "id": "d19c13f7",
   "metadata": {},
   "outputs": [],
   "source": [
    "# Clone source code YOLOv7 về thư mục Yolov7_train\n",
    "%cd \"D:\\code\\YOLOv7-SKU110K\\model\"\n",
    "!git clone https://github.com/WongKinYiu/yolov7.git"
   ]
  },
  {
   "cell_type": "code",
   "execution_count": null,
   "id": "f3c05bfc",
   "metadata": {},
   "outputs": [],
   "source": [
    "# Cài đặt các thư viện cần thiết để train YOLOv7\n",
    "%cd \"D:\\code\\YOLOv7-SKU110K\\model\\yolov7\"\n",
    "!pip install opencv-python torch torchvision\n",
    "%cd yolov7\n",
    "!pip install --upgrade pip\n",
    "!pip install -r requirements.txt"
   ]
  },
  {
   "cell_type": "code",
   "execution_count": null,
   "id": "92d57795",
   "metadata": {},
   "outputs": [],
   "source": [
    "# Dự đoán \n",
    "%cd \"D:\\code\\YOLOv7-SKU110K\\model\\yolov7\"\n",
    "!python detect.py --weights \"D:\\code\\YOLOv7-SKU110K\\model\\yolov7\\kaggle\\working\\yolov7\\runs\\train\\yolov7-sku110k-2gpus2\\weights\\best.pt\" --source \"D:\\code\\YOLOv7-SKU110K\\data\\images\\test\\test_2808.jpg\"\n"
   ]
  }
 ],
 "metadata": {
  "kernelspec": {
   "display_name": "base",
   "language": "python",
   "name": "python3"
  },
  "language_info": {
   "codemirror_mode": {
    "name": "ipython",
    "version": 3
   },
   "file_extension": ".py",
   "mimetype": "text/x-python",
   "name": "python",
   "nbconvert_exporter": "python",
   "pygments_lexer": "ipython3",
   "version": "3.11.5"
  }
 },
 "nbformat": 4,
 "nbformat_minor": 5
}
